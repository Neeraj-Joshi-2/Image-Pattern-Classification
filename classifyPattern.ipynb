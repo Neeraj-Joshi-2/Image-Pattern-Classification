{
 "cells": [
  {
   "cell_type": "markdown",
   "metadata": {},
   "source": [
    "# Texture and pattern recognition in images"
   ]
  },
  {
   "cell_type": "code",
   "execution_count": 1,
   "metadata": {},
   "outputs": [],
   "source": [
    "import cv2\n",
    "from skimage import feature\n",
    "from imutils import paths\n",
    "import numpy as np"
   ]
  },
  {
   "cell_type": "markdown",
   "metadata": {},
   "source": [
    "#### LBP Calculation "
   ]
  },
  {
   "cell_type": "code",
   "execution_count": 2,
   "metadata": {},
   "outputs": [],
   "source": [
    "class LocalBinaryPatterns:\n",
    "    \n",
    "    def __init__(self, numPoints, radius):\n",
    "\n",
    "        self.numPoints = numPoints\n",
    "        self.radius = radius\n",
    "        \n",
    "    def describe(self, image, eps=1e-7):\n",
    "\n",
    "        lbp = feature.local_binary_pattern(image, self.numPoints, self.radius, method=\"uniform\")\n",
    "        \n",
    "        (hist, _) = np.histogram(lbp.ravel(), bins=np.arange(0, self.numPoints + 3), range=(0, self.numPoints + 2))\n",
    "\n",
    "        hist = hist.astype(\"float\")\n",
    "        hist /= (hist.sum() + eps)\n",
    "\n",
    "        return hist"
   ]
  },
  {
   "cell_type": "code",
   "execution_count": 3,
   "metadata": {},
   "outputs": [],
   "source": [
    "desc = LocalBinaryPatterns(24, 8)"
   ]
  },
  {
   "cell_type": "code",
   "execution_count": 4,
   "metadata": {},
   "outputs": [
    {
     "name": "stdout",
     "output_type": "stream",
     "text": [
      "Processed 1 training images\n",
      "Processed 2 training images\n",
      "Processed 3 training images\n",
      "Processed 4 training images\n",
      "Processed 5 training images\n",
      "Processed 6 training images\n",
      "Processed 7 training images\n",
      "Processed 8 training images\n",
      "Processed 9 training images\n",
      "Processed 10 training images\n",
      "Processed 11 training images\n",
      "Processed 12 training images\n"
     ]
    }
   ],
   "source": [
    "train = []\n",
    "\n",
    "for imagePath in paths.list_images(\"D:\\PYTHON\\MACHINE LEARNING\\PROJECTS\\Classification Of Images\\Train\") :\n",
    "\n",
    "    image = cv2.imread(imagePath)\n",
    "    gray = cv2.cvtColor(image, cv2.COLOR_BGR2GRAY)\n",
    "    hist = desc.describe(gray)\n",
    "\n",
    "    train.append(hist)\n",
    "\n",
    "    print(\"Processed\" ,  len(train) , \"training images\")"
   ]
  },
  {
   "cell_type": "code",
   "execution_count": 5,
   "metadata": {
    "scrolled": true
   },
   "outputs": [
    {
     "name": "stdout",
     "output_type": "stream",
     "text": [
      "Processed 1 test images\n",
      "Processed 2 test images\n",
      "Processed 3 test images\n"
     ]
    }
   ],
   "source": [
    "test = []\n",
    "\n",
    "for imagePath in paths.list_images(\"D:\\PYTHON\\MACHINE LEARNING\\PROJECTS\\Classification Of Images\\Test\") :\n",
    "\n",
    "    image = cv2.imread(imagePath)\n",
    "    gray = cv2.cvtColor(image, cv2.COLOR_BGR2GRAY)\n",
    "    hist = desc.describe(gray)\n",
    "\n",
    "    test.append(hist)\n",
    "\n",
    "    print(\"Processed\" ,  len(test) , \"test images\")"
   ]
  },
  {
   "cell_type": "code",
   "execution_count": 6,
   "metadata": {
    "scrolled": true
   },
   "outputs": [
    {
     "data": {
      "text/plain": [
       "[array([0.03601667, 0.02943108, 0.00657042, 0.00410833, 0.00321175,\n",
       "        0.00296333, 0.00287033, 0.00333233, 0.00439117, 0.00703733,\n",
       "        0.012918  , 0.03025025, 0.05162292, 0.03306233, 0.01385892,\n",
       "        0.00752117, 0.00458317, 0.0034645 , 0.00257883, 0.002524  ,\n",
       "        0.00258075, 0.00330225, 0.00610917, 0.03576367, 0.04509358,\n",
       "        0.64483375]),\n",
       " array([0.02083192, 0.01527892, 0.01076583, 0.0099625 , 0.00959667,\n",
       "        0.011377  , 0.01275083, 0.01617767, 0.01870392, 0.02323017,\n",
       "        0.02648075, 0.031127  , 0.031788  , 0.03293958, 0.02883408,\n",
       "        0.02614642, 0.02175608, 0.019597  , 0.01623758, 0.01539008,\n",
       "        0.01363417, 0.014505  , 0.01668142, 0.02118958, 0.03613667,\n",
       "        0.49888117]),\n",
       " array([0.01258917, 0.00728692, 0.00788183, 0.00942708, 0.01117592,\n",
       "        0.01434883, 0.01829492, 0.025311  , 0.03396325, 0.047944  ,\n",
       "        0.07018258, 0.10022142, 0.10941767, 0.07318067, 0.04395642,\n",
       "        0.03144767, 0.02468658, 0.02112392, 0.01803317, 0.01588183,\n",
       "        0.01345333, 0.01155217, 0.01082675, 0.01052658, 0.01847058,\n",
       "        0.23881575])]"
      ]
     },
     "execution_count": 6,
     "metadata": {},
     "output_type": "execute_result"
    }
   ],
   "source": [
    "test"
   ]
  },
  {
   "cell_type": "code",
   "execution_count": 7,
   "metadata": {},
   "outputs": [
    {
     "data": {
      "text/plain": [
       "array([0.00669558, 0.00436008, 0.00392542, 0.0047165 , 0.00586733,\n",
       "       0.00873667, 0.012996  , 0.02180083, 0.03453217, 0.05636542,\n",
       "       0.08671542, 0.12400033, 0.131684  , 0.09499042, 0.05895283,\n",
       "       0.03981808, 0.02848125, 0.02140383, 0.01584042, 0.01197842,\n",
       "       0.00867308, 0.00693267, 0.00664033, 0.00679867, 0.0109615 ,\n",
       "       0.18613275])"
      ]
     },
     "execution_count": 7,
     "metadata": {},
     "output_type": "execute_result"
    }
   ],
   "source": [
    "train[11]"
   ]
  },
  {
   "cell_type": "markdown",
   "metadata": {},
   "source": [
    "#### Assigning labels and sampling"
   ]
  },
  {
   "cell_type": "code",
   "execution_count": 8,
   "metadata": {},
   "outputs": [],
   "source": [
    "import pandas as pd"
   ]
  },
  {
   "cell_type": "code",
   "execution_count": 9,
   "metadata": {
    "scrolled": false
   },
   "outputs": [
    {
     "data": {
      "text/html": [
       "<div>\n",
       "<style scoped>\n",
       "    .dataframe tbody tr th:only-of-type {\n",
       "        vertical-align: middle;\n",
       "    }\n",
       "\n",
       "    .dataframe tbody tr th {\n",
       "        vertical-align: top;\n",
       "    }\n",
       "\n",
       "    .dataframe thead th {\n",
       "        text-align: right;\n",
       "    }\n",
       "</style>\n",
       "<table border=\"1\" class=\"dataframe\">\n",
       "  <thead>\n",
       "    <tr style=\"text-align: right;\">\n",
       "      <th></th>\n",
       "      <th>0</th>\n",
       "      <th>1</th>\n",
       "      <th>2</th>\n",
       "      <th>3</th>\n",
       "      <th>4</th>\n",
       "      <th>5</th>\n",
       "      <th>6</th>\n",
       "      <th>7</th>\n",
       "      <th>8</th>\n",
       "      <th>9</th>\n",
       "      <th>...</th>\n",
       "      <th>17</th>\n",
       "      <th>18</th>\n",
       "      <th>19</th>\n",
       "      <th>20</th>\n",
       "      <th>21</th>\n",
       "      <th>22</th>\n",
       "      <th>23</th>\n",
       "      <th>24</th>\n",
       "      <th>25</th>\n",
       "      <th>Labels</th>\n",
       "    </tr>\n",
       "  </thead>\n",
       "  <tbody>\n",
       "    <tr>\n",
       "      <th>3</th>\n",
       "      <td>0.022189</td>\n",
       "      <td>0.015036</td>\n",
       "      <td>0.009268</td>\n",
       "      <td>0.008000</td>\n",
       "      <td>0.006355</td>\n",
       "      <td>0.006499</td>\n",
       "      <td>0.006078</td>\n",
       "      <td>0.007244</td>\n",
       "      <td>0.007969</td>\n",
       "      <td>0.011765</td>\n",
       "      <td>...</td>\n",
       "      <td>0.010779</td>\n",
       "      <td>0.008860</td>\n",
       "      <td>0.009847</td>\n",
       "      <td>0.009666</td>\n",
       "      <td>0.012580</td>\n",
       "      <td>0.016550</td>\n",
       "      <td>0.037986</td>\n",
       "      <td>0.059785</td>\n",
       "      <td>0.466513</td>\n",
       "      <td>1.0</td>\n",
       "    </tr>\n",
       "    <tr>\n",
       "      <th>4</th>\n",
       "      <td>0.033461</td>\n",
       "      <td>0.015923</td>\n",
       "      <td>0.013940</td>\n",
       "      <td>0.014122</td>\n",
       "      <td>0.013718</td>\n",
       "      <td>0.014406</td>\n",
       "      <td>0.015031</td>\n",
       "      <td>0.017493</td>\n",
       "      <td>0.019725</td>\n",
       "      <td>0.024163</td>\n",
       "      <td>...</td>\n",
       "      <td>0.019975</td>\n",
       "      <td>0.017287</td>\n",
       "      <td>0.016646</td>\n",
       "      <td>0.015694</td>\n",
       "      <td>0.016118</td>\n",
       "      <td>0.016885</td>\n",
       "      <td>0.019446</td>\n",
       "      <td>0.040354</td>\n",
       "      <td>0.437505</td>\n",
       "      <td>2.0</td>\n",
       "    </tr>\n",
       "    <tr>\n",
       "      <th>10</th>\n",
       "      <td>0.006936</td>\n",
       "      <td>0.004488</td>\n",
       "      <td>0.004330</td>\n",
       "      <td>0.005221</td>\n",
       "      <td>0.006723</td>\n",
       "      <td>0.010086</td>\n",
       "      <td>0.014668</td>\n",
       "      <td>0.023339</td>\n",
       "      <td>0.035334</td>\n",
       "      <td>0.055260</td>\n",
       "      <td>...</td>\n",
       "      <td>0.020425</td>\n",
       "      <td>0.015770</td>\n",
       "      <td>0.012474</td>\n",
       "      <td>0.009687</td>\n",
       "      <td>0.007889</td>\n",
       "      <td>0.007380</td>\n",
       "      <td>0.007401</td>\n",
       "      <td>0.012035</td>\n",
       "      <td>0.200728</td>\n",
       "      <td>3.0</td>\n",
       "    </tr>\n",
       "    <tr>\n",
       "      <th>5</th>\n",
       "      <td>0.035146</td>\n",
       "      <td>0.016786</td>\n",
       "      <td>0.014753</td>\n",
       "      <td>0.014168</td>\n",
       "      <td>0.013423</td>\n",
       "      <td>0.013910</td>\n",
       "      <td>0.014229</td>\n",
       "      <td>0.016355</td>\n",
       "      <td>0.018508</td>\n",
       "      <td>0.023149</td>\n",
       "      <td>...</td>\n",
       "      <td>0.018427</td>\n",
       "      <td>0.016042</td>\n",
       "      <td>0.015576</td>\n",
       "      <td>0.014894</td>\n",
       "      <td>0.015741</td>\n",
       "      <td>0.017267</td>\n",
       "      <td>0.020027</td>\n",
       "      <td>0.040450</td>\n",
       "      <td>0.443305</td>\n",
       "      <td>2.0</td>\n",
       "    </tr>\n",
       "    <tr>\n",
       "      <th>1</th>\n",
       "      <td>0.034668</td>\n",
       "      <td>0.028382</td>\n",
       "      <td>0.006958</td>\n",
       "      <td>0.003957</td>\n",
       "      <td>0.002878</td>\n",
       "      <td>0.002533</td>\n",
       "      <td>0.002473</td>\n",
       "      <td>0.003156</td>\n",
       "      <td>0.004309</td>\n",
       "      <td>0.007207</td>\n",
       "      <td>...</td>\n",
       "      <td>0.003654</td>\n",
       "      <td>0.002538</td>\n",
       "      <td>0.002434</td>\n",
       "      <td>0.002465</td>\n",
       "      <td>0.003250</td>\n",
       "      <td>0.006420</td>\n",
       "      <td>0.034811</td>\n",
       "      <td>0.042096</td>\n",
       "      <td>0.633913</td>\n",
       "      <td>1.0</td>\n",
       "    </tr>\n",
       "    <tr>\n",
       "      <th>0</th>\n",
       "      <td>0.038142</td>\n",
       "      <td>0.030267</td>\n",
       "      <td>0.008047</td>\n",
       "      <td>0.004551</td>\n",
       "      <td>0.003001</td>\n",
       "      <td>0.002423</td>\n",
       "      <td>0.002222</td>\n",
       "      <td>0.002609</td>\n",
       "      <td>0.003582</td>\n",
       "      <td>0.005785</td>\n",
       "      <td>...</td>\n",
       "      <td>0.002848</td>\n",
       "      <td>0.002198</td>\n",
       "      <td>0.002293</td>\n",
       "      <td>0.002697</td>\n",
       "      <td>0.003966</td>\n",
       "      <td>0.008025</td>\n",
       "      <td>0.037435</td>\n",
       "      <td>0.047395</td>\n",
       "      <td>0.656431</td>\n",
       "      <td>1.0</td>\n",
       "    </tr>\n",
       "    <tr>\n",
       "      <th>7</th>\n",
       "      <td>0.033126</td>\n",
       "      <td>0.022910</td>\n",
       "      <td>0.010268</td>\n",
       "      <td>0.008132</td>\n",
       "      <td>0.007388</td>\n",
       "      <td>0.007607</td>\n",
       "      <td>0.008101</td>\n",
       "      <td>0.009307</td>\n",
       "      <td>0.011355</td>\n",
       "      <td>0.014588</td>\n",
       "      <td>...</td>\n",
       "      <td>0.009923</td>\n",
       "      <td>0.008425</td>\n",
       "      <td>0.007916</td>\n",
       "      <td>0.007682</td>\n",
       "      <td>0.008389</td>\n",
       "      <td>0.010824</td>\n",
       "      <td>0.024723</td>\n",
       "      <td>0.034764</td>\n",
       "      <td>0.609870</td>\n",
       "      <td>2.0</td>\n",
       "    </tr>\n",
       "    <tr>\n",
       "      <th>6</th>\n",
       "      <td>0.036871</td>\n",
       "      <td>0.022470</td>\n",
       "      <td>0.011878</td>\n",
       "      <td>0.009983</td>\n",
       "      <td>0.009302</td>\n",
       "      <td>0.009429</td>\n",
       "      <td>0.009843</td>\n",
       "      <td>0.011061</td>\n",
       "      <td>0.012774</td>\n",
       "      <td>0.015327</td>\n",
       "      <td>...</td>\n",
       "      <td>0.012208</td>\n",
       "      <td>0.010854</td>\n",
       "      <td>0.010370</td>\n",
       "      <td>0.010106</td>\n",
       "      <td>0.010806</td>\n",
       "      <td>0.012748</td>\n",
       "      <td>0.024338</td>\n",
       "      <td>0.038304</td>\n",
       "      <td>0.580647</td>\n",
       "      <td>2.0</td>\n",
       "    </tr>\n",
       "    <tr>\n",
       "      <th>11</th>\n",
       "      <td>0.006696</td>\n",
       "      <td>0.004360</td>\n",
       "      <td>0.003925</td>\n",
       "      <td>0.004716</td>\n",
       "      <td>0.005867</td>\n",
       "      <td>0.008737</td>\n",
       "      <td>0.012996</td>\n",
       "      <td>0.021801</td>\n",
       "      <td>0.034532</td>\n",
       "      <td>0.056365</td>\n",
       "      <td>...</td>\n",
       "      <td>0.021404</td>\n",
       "      <td>0.015840</td>\n",
       "      <td>0.011978</td>\n",
       "      <td>0.008673</td>\n",
       "      <td>0.006933</td>\n",
       "      <td>0.006640</td>\n",
       "      <td>0.006799</td>\n",
       "      <td>0.010961</td>\n",
       "      <td>0.186133</td>\n",
       "      <td>3.0</td>\n",
       "    </tr>\n",
       "    <tr>\n",
       "      <th>2</th>\n",
       "      <td>0.039303</td>\n",
       "      <td>0.030911</td>\n",
       "      <td>0.007599</td>\n",
       "      <td>0.004849</td>\n",
       "      <td>0.003763</td>\n",
       "      <td>0.003344</td>\n",
       "      <td>0.003039</td>\n",
       "      <td>0.003338</td>\n",
       "      <td>0.004150</td>\n",
       "      <td>0.006331</td>\n",
       "      <td>...</td>\n",
       "      <td>0.003376</td>\n",
       "      <td>0.002696</td>\n",
       "      <td>0.002836</td>\n",
       "      <td>0.003095</td>\n",
       "      <td>0.004187</td>\n",
       "      <td>0.007495</td>\n",
       "      <td>0.036819</td>\n",
       "      <td>0.048916</td>\n",
       "      <td>0.656554</td>\n",
       "      <td>1.0</td>\n",
       "    </tr>\n",
       "    <tr>\n",
       "      <th>8</th>\n",
       "      <td>0.019281</td>\n",
       "      <td>0.010705</td>\n",
       "      <td>0.011183</td>\n",
       "      <td>0.012119</td>\n",
       "      <td>0.013979</td>\n",
       "      <td>0.017218</td>\n",
       "      <td>0.021138</td>\n",
       "      <td>0.026878</td>\n",
       "      <td>0.033374</td>\n",
       "      <td>0.043235</td>\n",
       "      <td>...</td>\n",
       "      <td>0.017883</td>\n",
       "      <td>0.015974</td>\n",
       "      <td>0.014969</td>\n",
       "      <td>0.013806</td>\n",
       "      <td>0.012848</td>\n",
       "      <td>0.013411</td>\n",
       "      <td>0.015202</td>\n",
       "      <td>0.023341</td>\n",
       "      <td>0.330944</td>\n",
       "      <td>3.0</td>\n",
       "    </tr>\n",
       "    <tr>\n",
       "      <th>9</th>\n",
       "      <td>0.015190</td>\n",
       "      <td>0.007985</td>\n",
       "      <td>0.008660</td>\n",
       "      <td>0.010541</td>\n",
       "      <td>0.013036</td>\n",
       "      <td>0.016921</td>\n",
       "      <td>0.021455</td>\n",
       "      <td>0.028408</td>\n",
       "      <td>0.036683</td>\n",
       "      <td>0.049447</td>\n",
       "      <td>...</td>\n",
       "      <td>0.020810</td>\n",
       "      <td>0.018320</td>\n",
       "      <td>0.016619</td>\n",
       "      <td>0.014545</td>\n",
       "      <td>0.012669</td>\n",
       "      <td>0.011849</td>\n",
       "      <td>0.011757</td>\n",
       "      <td>0.019870</td>\n",
       "      <td>0.255959</td>\n",
       "      <td>3.0</td>\n",
       "    </tr>\n",
       "  </tbody>\n",
       "</table>\n",
       "<p>12 rows × 27 columns</p>\n",
       "</div>"
      ],
      "text/plain": [
       "           0         1         2         3         4         5         6  \\\n",
       "3   0.022189  0.015036  0.009268  0.008000  0.006355  0.006499  0.006078   \n",
       "4   0.033461  0.015923  0.013940  0.014122  0.013718  0.014406  0.015031   \n",
       "10  0.006936  0.004488  0.004330  0.005221  0.006723  0.010086  0.014668   \n",
       "5   0.035146  0.016786  0.014753  0.014168  0.013423  0.013910  0.014229   \n",
       "1   0.034668  0.028382  0.006958  0.003957  0.002878  0.002533  0.002473   \n",
       "0   0.038142  0.030267  0.008047  0.004551  0.003001  0.002423  0.002222   \n",
       "7   0.033126  0.022910  0.010268  0.008132  0.007388  0.007607  0.008101   \n",
       "6   0.036871  0.022470  0.011878  0.009983  0.009302  0.009429  0.009843   \n",
       "11  0.006696  0.004360  0.003925  0.004716  0.005867  0.008737  0.012996   \n",
       "2   0.039303  0.030911  0.007599  0.004849  0.003763  0.003344  0.003039   \n",
       "8   0.019281  0.010705  0.011183  0.012119  0.013979  0.017218  0.021138   \n",
       "9   0.015190  0.007985  0.008660  0.010541  0.013036  0.016921  0.021455   \n",
       "\n",
       "           7         8         9  ...        17        18        19        20  \\\n",
       "3   0.007244  0.007969  0.011765  ...  0.010779  0.008860  0.009847  0.009666   \n",
       "4   0.017493  0.019725  0.024163  ...  0.019975  0.017287  0.016646  0.015694   \n",
       "10  0.023339  0.035334  0.055260  ...  0.020425  0.015770  0.012474  0.009687   \n",
       "5   0.016355  0.018508  0.023149  ...  0.018427  0.016042  0.015576  0.014894   \n",
       "1   0.003156  0.004309  0.007207  ...  0.003654  0.002538  0.002434  0.002465   \n",
       "0   0.002609  0.003582  0.005785  ...  0.002848  0.002198  0.002293  0.002697   \n",
       "7   0.009307  0.011355  0.014588  ...  0.009923  0.008425  0.007916  0.007682   \n",
       "6   0.011061  0.012774  0.015327  ...  0.012208  0.010854  0.010370  0.010106   \n",
       "11  0.021801  0.034532  0.056365  ...  0.021404  0.015840  0.011978  0.008673   \n",
       "2   0.003338  0.004150  0.006331  ...  0.003376  0.002696  0.002836  0.003095   \n",
       "8   0.026878  0.033374  0.043235  ...  0.017883  0.015974  0.014969  0.013806   \n",
       "9   0.028408  0.036683  0.049447  ...  0.020810  0.018320  0.016619  0.014545   \n",
       "\n",
       "          21        22        23        24        25  Labels  \n",
       "3   0.012580  0.016550  0.037986  0.059785  0.466513     1.0  \n",
       "4   0.016118  0.016885  0.019446  0.040354  0.437505     2.0  \n",
       "10  0.007889  0.007380  0.007401  0.012035  0.200728     3.0  \n",
       "5   0.015741  0.017267  0.020027  0.040450  0.443305     2.0  \n",
       "1   0.003250  0.006420  0.034811  0.042096  0.633913     1.0  \n",
       "0   0.003966  0.008025  0.037435  0.047395  0.656431     1.0  \n",
       "7   0.008389  0.010824  0.024723  0.034764  0.609870     2.0  \n",
       "6   0.010806  0.012748  0.024338  0.038304  0.580647     2.0  \n",
       "11  0.006933  0.006640  0.006799  0.010961  0.186133     3.0  \n",
       "2   0.004187  0.007495  0.036819  0.048916  0.656554     1.0  \n",
       "8   0.012848  0.013411  0.015202  0.023341  0.330944     3.0  \n",
       "9   0.012669  0.011849  0.011757  0.019870  0.255959     3.0  \n",
       "\n",
       "[12 rows x 27 columns]"
      ]
     },
     "execution_count": 9,
     "metadata": {},
     "output_type": "execute_result"
    }
   ],
   "source": [
    "data = pd.DataFrame(train)\n",
    "\n",
    "data['Labels'] = np.zeros(len(train))\n",
    "\n",
    "for i in range(0 , 4) :\n",
    "    data.iloc[i, 26] = 1.0  \n",
    "\n",
    "for i in range(4 , 8) :\n",
    "    data.iloc[i, 26] = 2.0 \n",
    "    \n",
    "for i in range(8 , 12) :\n",
    "    data.iloc[i, 26] = 3.0 \n",
    "    \n",
    "data = data.sample(frac = 1)\n",
    "\n",
    "data"
   ]
  },
  {
   "cell_type": "code",
   "execution_count": 10,
   "metadata": {},
   "outputs": [],
   "source": [
    "x_train = data.drop('Labels' , axis = 1)\n",
    "y_train = data.Labels"
   ]
  },
  {
   "cell_type": "code",
   "execution_count": 11,
   "metadata": {},
   "outputs": [
    {
     "data": {
      "text/html": [
       "<div>\n",
       "<style scoped>\n",
       "    .dataframe tbody tr th:only-of-type {\n",
       "        vertical-align: middle;\n",
       "    }\n",
       "\n",
       "    .dataframe tbody tr th {\n",
       "        vertical-align: top;\n",
       "    }\n",
       "\n",
       "    .dataframe thead th {\n",
       "        text-align: right;\n",
       "    }\n",
       "</style>\n",
       "<table border=\"1\" class=\"dataframe\">\n",
       "  <thead>\n",
       "    <tr style=\"text-align: right;\">\n",
       "      <th></th>\n",
       "      <th>0</th>\n",
       "      <th>1</th>\n",
       "      <th>2</th>\n",
       "      <th>3</th>\n",
       "      <th>4</th>\n",
       "      <th>5</th>\n",
       "      <th>6</th>\n",
       "      <th>7</th>\n",
       "      <th>8</th>\n",
       "      <th>9</th>\n",
       "      <th>...</th>\n",
       "      <th>17</th>\n",
       "      <th>18</th>\n",
       "      <th>19</th>\n",
       "      <th>20</th>\n",
       "      <th>21</th>\n",
       "      <th>22</th>\n",
       "      <th>23</th>\n",
       "      <th>24</th>\n",
       "      <th>25</th>\n",
       "      <th>Labels</th>\n",
       "    </tr>\n",
       "  </thead>\n",
       "  <tbody>\n",
       "    <tr>\n",
       "      <th>0</th>\n",
       "      <td>0.036017</td>\n",
       "      <td>0.029431</td>\n",
       "      <td>0.006570</td>\n",
       "      <td>0.004108</td>\n",
       "      <td>0.003212</td>\n",
       "      <td>0.002963</td>\n",
       "      <td>0.002870</td>\n",
       "      <td>0.003332</td>\n",
       "      <td>0.004391</td>\n",
       "      <td>0.007037</td>\n",
       "      <td>...</td>\n",
       "      <td>0.003464</td>\n",
       "      <td>0.002579</td>\n",
       "      <td>0.002524</td>\n",
       "      <td>0.002581</td>\n",
       "      <td>0.003302</td>\n",
       "      <td>0.006109</td>\n",
       "      <td>0.035764</td>\n",
       "      <td>0.045094</td>\n",
       "      <td>0.644834</td>\n",
       "      <td>1.0</td>\n",
       "    </tr>\n",
       "    <tr>\n",
       "      <th>1</th>\n",
       "      <td>0.020832</td>\n",
       "      <td>0.015279</td>\n",
       "      <td>0.010766</td>\n",
       "      <td>0.009962</td>\n",
       "      <td>0.009597</td>\n",
       "      <td>0.011377</td>\n",
       "      <td>0.012751</td>\n",
       "      <td>0.016178</td>\n",
       "      <td>0.018704</td>\n",
       "      <td>0.023230</td>\n",
       "      <td>...</td>\n",
       "      <td>0.019597</td>\n",
       "      <td>0.016238</td>\n",
       "      <td>0.015390</td>\n",
       "      <td>0.013634</td>\n",
       "      <td>0.014505</td>\n",
       "      <td>0.016681</td>\n",
       "      <td>0.021190</td>\n",
       "      <td>0.036137</td>\n",
       "      <td>0.498881</td>\n",
       "      <td>2.0</td>\n",
       "    </tr>\n",
       "    <tr>\n",
       "      <th>2</th>\n",
       "      <td>0.012589</td>\n",
       "      <td>0.007287</td>\n",
       "      <td>0.007882</td>\n",
       "      <td>0.009427</td>\n",
       "      <td>0.011176</td>\n",
       "      <td>0.014349</td>\n",
       "      <td>0.018295</td>\n",
       "      <td>0.025311</td>\n",
       "      <td>0.033963</td>\n",
       "      <td>0.047944</td>\n",
       "      <td>...</td>\n",
       "      <td>0.021124</td>\n",
       "      <td>0.018033</td>\n",
       "      <td>0.015882</td>\n",
       "      <td>0.013453</td>\n",
       "      <td>0.011552</td>\n",
       "      <td>0.010827</td>\n",
       "      <td>0.010527</td>\n",
       "      <td>0.018471</td>\n",
       "      <td>0.238816</td>\n",
       "      <td>3.0</td>\n",
       "    </tr>\n",
       "  </tbody>\n",
       "</table>\n",
       "<p>3 rows × 27 columns</p>\n",
       "</div>"
      ],
      "text/plain": [
       "          0         1         2         3         4         5         6  \\\n",
       "0  0.036017  0.029431  0.006570  0.004108  0.003212  0.002963  0.002870   \n",
       "1  0.020832  0.015279  0.010766  0.009962  0.009597  0.011377  0.012751   \n",
       "2  0.012589  0.007287  0.007882  0.009427  0.011176  0.014349  0.018295   \n",
       "\n",
       "          7         8         9  ...        17        18        19        20  \\\n",
       "0  0.003332  0.004391  0.007037  ...  0.003464  0.002579  0.002524  0.002581   \n",
       "1  0.016178  0.018704  0.023230  ...  0.019597  0.016238  0.015390  0.013634   \n",
       "2  0.025311  0.033963  0.047944  ...  0.021124  0.018033  0.015882  0.013453   \n",
       "\n",
       "         21        22        23        24        25  Labels  \n",
       "0  0.003302  0.006109  0.035764  0.045094  0.644834     1.0  \n",
       "1  0.014505  0.016681  0.021190  0.036137  0.498881     2.0  \n",
       "2  0.011552  0.010827  0.010527  0.018471  0.238816     3.0  \n",
       "\n",
       "[3 rows x 27 columns]"
      ]
     },
     "execution_count": 11,
     "metadata": {},
     "output_type": "execute_result"
    }
   ],
   "source": [
    "test_data = pd.DataFrame(test)\n",
    "\n",
    "test_data['Labels'] = np.zeros(len(test))\n",
    "\n",
    "for i in range(0 , 1) :\n",
    "    test_data.iloc[i, 26] = 1.0  \n",
    "\n",
    "for i in range(1 , 2) :\n",
    "    test_data.iloc[i, 26] = 2.0 \n",
    "    \n",
    "for i in range(2 , 3) :\n",
    "    test_data.iloc[i, 26] = 3.0 \n",
    "\n",
    "test_data"
   ]
  },
  {
   "cell_type": "code",
   "execution_count": 12,
   "metadata": {},
   "outputs": [],
   "source": [
    "x_test = test_data.drop('Labels' , axis = 1)\n",
    "y_test = test_data.Labels"
   ]
  },
  {
   "cell_type": "code",
   "execution_count": 13,
   "metadata": {},
   "outputs": [
    {
     "data": {
      "text/plain": [
       "0    1.0\n",
       "1    2.0\n",
       "2    3.0\n",
       "Name: Labels, dtype: float64"
      ]
     },
     "execution_count": 13,
     "metadata": {},
     "output_type": "execute_result"
    }
   ],
   "source": [
    "y_test"
   ]
  },
  {
   "cell_type": "markdown",
   "metadata": {},
   "source": [
    "### Training the model"
   ]
  },
  {
   "cell_type": "code",
   "execution_count": 14,
   "metadata": {},
   "outputs": [
    {
     "name": "stderr",
     "output_type": "stream",
     "text": [
      "D:\\ANACONDA\\lib\\site-packages\\sklearn\\svm\\_base.py:947: ConvergenceWarning: Liblinear failed to converge, increase the number of iterations.\n",
      "  \"the number of iterations.\", ConvergenceWarning)\n"
     ]
    },
    {
     "data": {
      "text/plain": [
       "LinearSVC(C=100.0, class_weight=None, dual=True, fit_intercept=True,\n",
       "          intercept_scaling=1, loss='squared_hinge', max_iter=1000,\n",
       "          multi_class='ovr', penalty='l2', random_state=42, tol=0.0001,\n",
       "          verbose=0)"
      ]
     },
     "execution_count": 14,
     "metadata": {},
     "output_type": "execute_result"
    }
   ],
   "source": [
    "from sklearn.svm import LinearSVC\n",
    "\n",
    "model = LinearSVC( C=100.0 , random_state = 42 )\n",
    "\n",
    "model.fit(x_train , y_train)"
   ]
  },
  {
   "cell_type": "markdown",
   "metadata": {},
   "source": [
    "### Prediction"
   ]
  },
  {
   "cell_type": "code",
   "execution_count": 15,
   "metadata": {},
   "outputs": [
    {
     "data": {
      "text/plain": [
       "array([1., 2., 3.])"
      ]
     },
     "execution_count": 15,
     "metadata": {},
     "output_type": "execute_result"
    }
   ],
   "source": [
    "prediction = model.predict(x_test)\n",
    "prediction"
   ]
  },
  {
   "cell_type": "code",
   "execution_count": 16,
   "metadata": {},
   "outputs": [
    {
     "data": {
      "text/html": [
       "<div>\n",
       "<style scoped>\n",
       "    .dataframe tbody tr th:only-of-type {\n",
       "        vertical-align: middle;\n",
       "    }\n",
       "\n",
       "    .dataframe tbody tr th {\n",
       "        vertical-align: top;\n",
       "    }\n",
       "\n",
       "    .dataframe thead th {\n",
       "        text-align: right;\n",
       "    }\n",
       "</style>\n",
       "<table border=\"1\" class=\"dataframe\">\n",
       "  <thead>\n",
       "    <tr style=\"text-align: right;\">\n",
       "      <th></th>\n",
       "      <th>Predicted</th>\n",
       "      <th>Actual</th>\n",
       "    </tr>\n",
       "  </thead>\n",
       "  <tbody>\n",
       "    <tr>\n",
       "      <th>0</th>\n",
       "      <td>1.0</td>\n",
       "      <td>1.0</td>\n",
       "    </tr>\n",
       "    <tr>\n",
       "      <th>1</th>\n",
       "      <td>2.0</td>\n",
       "      <td>2.0</td>\n",
       "    </tr>\n",
       "    <tr>\n",
       "      <th>2</th>\n",
       "      <td>3.0</td>\n",
       "      <td>3.0</td>\n",
       "    </tr>\n",
       "  </tbody>\n",
       "</table>\n",
       "</div>"
      ],
      "text/plain": [
       "   Predicted  Actual\n",
       "0        1.0     1.0\n",
       "1        2.0     2.0\n",
       "2        3.0     3.0"
      ]
     },
     "execution_count": 16,
     "metadata": {},
     "output_type": "execute_result"
    }
   ],
   "source": [
    "pred_data = pd.DataFrame(prediction)\n",
    "\n",
    "pred_data[''] = pd.DataFrame(y_test)\n",
    "\n",
    "pred_data.columns = ['Predicted' , 'Actual']\n",
    "\n",
    "pred_data"
   ]
  },
  {
   "cell_type": "code",
   "execution_count": 17,
   "metadata": {
    "scrolled": true
   },
   "outputs": [
    {
     "data": {
      "text/plain": [
       "array([1.])"
      ]
     },
     "execution_count": 17,
     "metadata": {},
     "output_type": "execute_result"
    }
   ],
   "source": [
    "prediction_1 = model.predict(test[0].reshape(1, -1))\n",
    "prediction_1"
   ]
  },
  {
   "cell_type": "code",
   "execution_count": 18,
   "metadata": {},
   "outputs": [],
   "source": [
    "images = []\n",
    "\n",
    "for imagePath in paths.list_images(\"D:\\PYTHON\\MACHINE LEARNING\\PROJECTS\\Classification Of Images\\Test\") :\n",
    "\n",
    "    image = cv2.imread(imagePath)\n",
    "    \n",
    "    images.append(image)"
   ]
  },
  {
   "cell_type": "code",
   "execution_count": 19,
   "metadata": {},
   "outputs": [],
   "source": [
    "def prediction(test) :\n",
    "    \n",
    "        \n",
    "    pred = model.predict(test)\n",
    "    \n",
    "    if(pred == 1) :\n",
    "    \n",
    "        print('Keyboard')\n",
    "    \n",
    "    if(pred == 2) :\n",
    "    \n",
    "        print('Floor')\n",
    "        \n",
    "    if(pred == 3) :\n",
    "    \n",
    "        print('Mat')\n",
    "    \n",
    "    \n",
    "    cv2.imshow(\"Image\" , images[0])\n",
    "    cv2.waitKey(0)\n",
    "    "
   ]
  },
  {
   "cell_type": "code",
   "execution_count": 20,
   "metadata": {},
   "outputs": [
    {
     "name": "stdout",
     "output_type": "stream",
     "text": [
      "Keyboard\n"
     ]
    }
   ],
   "source": [
    "prediction(test[0].reshape(1, -1))"
   ]
  }
 ],
 "metadata": {
  "kernelspec": {
   "display_name": "Python 3",
   "language": "python",
   "name": "python3"
  },
  "language_info": {
   "codemirror_mode": {
    "name": "ipython",
    "version": 3
   },
   "file_extension": ".py",
   "mimetype": "text/x-python",
   "name": "python",
   "nbconvert_exporter": "python",
   "pygments_lexer": "ipython3",
   "version": "3.7.6"
  }
 },
 "nbformat": 4,
 "nbformat_minor": 4
}
